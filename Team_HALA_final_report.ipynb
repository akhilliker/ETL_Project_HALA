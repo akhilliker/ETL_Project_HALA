{
 "cells": [
  {
   "cell_type": "markdown",
   "metadata": {},
   "source": [
    "# Summary of work by Hank, Anna, Lauren, and Angie (Team HALA!!)"
   ]
  },
  {
   "cell_type": "markdown",
   "metadata": {},
   "source": [
    "# Extract Data\n",
    "\n",
    "* We pulled two data sets from kaggle:\n",
    "    * Usage of the Public Assistance Program WIC\n",
    "    <a> https://www.kaggle.com/jpmiller/publicassistance </a>\n",
    "    * State Minimum Wage Levels\n",
    "    <a> https://www.kaggle.com/lislejoem/us-minimum-wage-by-state-from-1968-to-2017#Minimum%20Wage%20Data.csv </a>\n",
    "* Both data sets are CSV files and were read in as dataframes using Pandas\n",
    "* We thought it might be interesting to compare usage of a public assitance program across states, compared to the minimum wage in each state. To do such an analysis, one would need to be able to compare minimum wage and WIC usage across states and years. We will transform the date to make the data easier to compare in this way. \n"
   ]
  },
  {
   "cell_type": "markdown",
   "metadata": {},
   "source": [
    "# Transform Data\n",
    "\n",
    "### State Minimum Wage Data\n",
    "* We deleted all records from years before 2010, as the public assistance data is from 2010-2017\n",
    "* We deleted columns of redundent data, that contained largely nulls, or that normalized wage data to 2018 values (as the basis for this calculation wasn't clear in the documentation)\n",
    "* We renamed columns with lower case and replaced spaces and periods with underscores to make the names similar to our 2nd table and make it friendly for MySQL.\n",
    "\n",
    "### Public Assistance Usage\n",
    "* We first renamed the column headers to more descriptive language based on the documentation (<a> https://www2.census.gov/programs-surveys/popest/technical-documentation/file-layouts/2010-2017/sub-est2017.pdf </a>)\n",
    "* The \"geographic_summary_level\" contained a number that referred to the type of locality (state, county, city, etc.), as defined in the previous link to documentation.  We created a dictionary with the code as the key and the explanation as the value and merged on the \"geographic_summary_level\" code. \n",
    "* At this point, we decided to dump everything but the state data, as our minimum wage data is listed by state. So, the dictionary above wasn't strictly required, but it helped us figure out the data. \n",
    "* We cut columns that contained codes that were no longer relevant, as they referred to county, etc.\n",
    "* We cut columns with 2010 census population and 2010 base population and used estimated population for 2010, as data for 2011 on were estimates. We simplified the column names to year only ('2010', etc.)\n",
    "* We wanted the two data sets to be easily joinable on state and year, so we used the pandas function .melt where the state column is the id_vars (the column to use as identifier variables) and each year (2010-2016) is a value_vars (columns to unpivot).  This function gives us a new table in a similar format to our minimum wage table.  We renamed the columns to be more descriptive. \n",
    "* Somewhere along the way, we realized that kaggle user JohnM didn't actually include ANY data about usage of WIC.  But at this point, we were too far down this data rabbit hole to find new data.  And we've clearly done some sweet data transformations. So, we added a column to represent the mythical WIC usage data that we were promised, but denied. "
   ]
  },
  {
   "cell_type": "markdown",
   "metadata": {},
   "source": [
    "# Load Data\n",
    "\n",
    "* This is relational data, so we want to load this data into MySQL.\n",
    "* We created a new schema called \"demographics_db\" in MySQL and created two tables (min_wage and pub_assist) with columns that reflect the names and data types of our dataframes in pandas\n",
    "* We created a connection to MySQL and ran the engine.  We used python to pass the dataframes to MySQL. \n",
    "* Both tables were populated in MySQL, as shown in the screen captures below:\n",
    "    * Minimum Wage table\n",
    "![alt text](min_wage.png)\n",
    "<br><br>\n",
    "    * Public Assistance table\n",
    "![alt text](pub_assist.png)"
   ]
  },
  {
   "cell_type": "markdown",
   "metadata": {},
   "source": []
  }
 ],
 "metadata": {
  "kernelspec": {
   "display_name": "Python 3",
   "language": "python",
   "name": "python3"
  },
  "language_info": {
   "codemirror_mode": {
    "name": "ipython",
    "version": 3
   },
   "file_extension": ".py",
   "mimetype": "text/x-python",
   "name": "python",
   "nbconvert_exporter": "python",
   "pygments_lexer": "ipython3",
   "version": "3.7.1"
  }
 },
 "nbformat": 4,
 "nbformat_minor": 2
}
